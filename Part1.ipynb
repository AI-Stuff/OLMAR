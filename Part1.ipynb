{
 "cells": [
  {
   "cell_type": "markdown",
   "metadata": {},
   "source": [
    "# Part 1\n",
    "\n",
    "Part 1 aims to show that assuming the mean reversion assumption, common filters have a low predictive power."
   ]
  },
  {
   "cell_type": "markdown",
   "metadata": {},
   "source": [
    "## Imports of libraries"
   ]
  },
  {
   "cell_type": "code",
   "execution_count": 35,
   "metadata": {
    "collapsed": false
   },
   "outputs": [],
   "source": [
    "from config import datafolder\n",
    "from functions import *\n",
    "import matplotlib.pyplot as plt\n",
    "%matplotlib inline\n",
    "import pandas as pd\n",
    "import seaborn\n",
    "\n",
    "import warnings\n",
    "warnings.filterwarnings(\"ignore\")"
   ]
  },
  {
   "cell_type": "markdown",
   "metadata": {},
   "source": [
    "## Performance of a specific filter on a specific dataset"
   ]
  },
  {
   "cell_type": "code",
   "execution_count": 64,
   "metadata": {
    "collapsed": false
   },
   "outputs": [],
   "source": [
    "# choosing a dataset of price relative, a filter and its parameters \n",
    "dataname = \"SP500\"  # among SP500, TSE, DJIA\n",
    "dataset = pd.read_csv(datafolder+dataname+\".csv\") #price relative\n",
    "f = KCA # filter you want\n",
    "params = {\"window\": 5} # parameter you want"
   ]
  },
  {
   "cell_type": "code",
   "execution_count": 65,
   "metadata": {
    "collapsed": true
   },
   "outputs": [],
   "source": [
    "# build dataframe of price relative predictions\n",
    "prediction = f(dataset,params).divide(to_absolute(dataset)) # build predictions"
   ]
  },
  {
   "cell_type": "code",
   "execution_count": 66,
   "metadata": {
    "collapsed": false
   },
   "outputs": [
    {
     "data": {
      "text/html": [
       "<div>\n",
       "<table border=\"1\" class=\"dataframe\">\n",
       "  <thead>\n",
       "    <tr style=\"text-align: right;\">\n",
       "      <th></th>\n",
       "      <th>MAE</th>\n",
       "      <th>DPA</th>\n",
       "      <th>R2</th>\n",
       "    </tr>\n",
       "  </thead>\n",
       "  <tbody>\n",
       "    <tr>\n",
       "      <th>uniform_average</th>\n",
       "      <td>0.019380</td>\n",
       "      <td>0.502620</td>\n",
       "      <td>-0.337094</td>\n",
       "    </tr>\n",
       "    <tr>\n",
       "      <th>General Electric Company (273 Bil)</th>\n",
       "      <td>0.017949</td>\n",
       "      <td>0.498824</td>\n",
       "      <td>-0.409514</td>\n",
       "    </tr>\n",
       "    <tr>\n",
       "      <th>Microsoft Corporation (259 Bil)</th>\n",
       "      <td>0.021603</td>\n",
       "      <td>0.505882</td>\n",
       "      <td>-0.296288</td>\n",
       "    </tr>\n",
       "    <tr>\n",
       "      <th>Wal-Mart Stores, (234 Bil)</th>\n",
       "      <td>0.019460</td>\n",
       "      <td>0.508235</td>\n",
       "      <td>-0.396405</td>\n",
       "    </tr>\n",
       "    <tr>\n",
       "      <th>Exxon Mobil Corporation (230 Bil)</th>\n",
       "      <td>0.014342</td>\n",
       "      <td>0.521569</td>\n",
       "      <td>-0.614184</td>\n",
       "    </tr>\n",
       "    <tr>\n",
       "      <th>Pfizer Inc (194 Bil)</th>\n",
       "      <td>0.018655</td>\n",
       "      <td>0.491765</td>\n",
       "      <td>-0.391748</td>\n",
       "    </tr>\n",
       "    <tr>\n",
       "      <th>Citigroup Inc. (192 Bil)</th>\n",
       "      <td>0.021156</td>\n",
       "      <td>0.511373</td>\n",
       "      <td>-0.306587</td>\n",
       "    </tr>\n",
       "    <tr>\n",
       "      <th>Johnson &amp; Johnson (170 Bil)</th>\n",
       "      <td>0.014318</td>\n",
       "      <td>0.470588</td>\n",
       "      <td>-0.670445</td>\n",
       "    </tr>\n",
       "    <tr>\n",
       "      <th>American International Group (138 Bil)</th>\n",
       "      <td>0.017421</td>\n",
       "      <td>0.499608</td>\n",
       "      <td>-0.447942</td>\n",
       "    </tr>\n",
       "    <tr>\n",
       "      <th>International Business Machines Corporation (136 Bil)</th>\n",
       "      <td>0.019244</td>\n",
       "      <td>0.512157</td>\n",
       "      <td>-0.322305</td>\n",
       "    </tr>\n",
       "    <tr>\n",
       "      <th>Merck &amp; Co., Inc. (124 Bil)</th>\n",
       "      <td>0.016452</td>\n",
       "      <td>0.471373</td>\n",
       "      <td>-0.502996</td>\n",
       "    </tr>\n",
       "    <tr>\n",
       "      <th>Procter &amp; Gamble Company (115 Bil)</th>\n",
       "      <td>0.015389</td>\n",
       "      <td>0.505098</td>\n",
       "      <td>-0.469108</td>\n",
       "    </tr>\n",
       "    <tr>\n",
       "      <th>Intel Corporation (110 Bil)</th>\n",
       "      <td>0.028016</td>\n",
       "      <td>0.522353</td>\n",
       "      <td>-0.173597</td>\n",
       "    </tr>\n",
       "    <tr>\n",
       "      <th>Bank of America Corporation (107 Bil)</th>\n",
       "      <td>0.019374</td>\n",
       "      <td>0.518431</td>\n",
       "      <td>-0.358320</td>\n",
       "    </tr>\n",
       "    <tr>\n",
       "      <th>Coca-Cola Company (102 Bil)</th>\n",
       "      <td>0.015737</td>\n",
       "      <td>0.492549</td>\n",
       "      <td>-0.549337</td>\n",
       "    </tr>\n",
       "    <tr>\n",
       "      <th>Cisco Systems, Inc. (94 Bil)</th>\n",
       "      <td>0.029875</td>\n",
       "      <td>0.514510</td>\n",
       "      <td>-0.135883</td>\n",
       "    </tr>\n",
       "    <tr>\n",
       "      <th>Verizon Communications Inc. (93 Bil)</th>\n",
       "      <td>0.018185</td>\n",
       "      <td>0.517647</td>\n",
       "      <td>-0.419123</td>\n",
       "    </tr>\n",
       "    <tr>\n",
       "      <th>Wells Fargo &amp; Company (78 Bil)</th>\n",
       "      <td>0.016205</td>\n",
       "      <td>0.512941</td>\n",
       "      <td>-0.472377</td>\n",
       "    </tr>\n",
       "    <tr>\n",
       "      <th>Amgen Inc. (75 Bil)</th>\n",
       "      <td>0.025200</td>\n",
       "      <td>0.497255</td>\n",
       "      <td>-0.221849</td>\n",
       "    </tr>\n",
       "    <tr>\n",
       "      <th>Dell Computer Corporation (73 Bil)</th>\n",
       "      <td>0.028942</td>\n",
       "      <td>0.490980</td>\n",
       "      <td>-0.187001</td>\n",
       "    </tr>\n",
       "    <tr>\n",
       "      <th>PepsiCo, Inc. (69 Bil)</th>\n",
       "      <td>0.016093</td>\n",
       "      <td>0.517647</td>\n",
       "      <td>-0.429464</td>\n",
       "    </tr>\n",
       "    <tr>\n",
       "      <th>SBC Communications Inc. (69 Bil)</th>\n",
       "      <td>0.018969</td>\n",
       "      <td>0.516863</td>\n",
       "      <td>-0.366568</td>\n",
       "    </tr>\n",
       "    <tr>\n",
       "      <th>Fannie Mae S&amp;P (68 Bil)</th>\n",
       "      <td>0.016763</td>\n",
       "      <td>0.487059</td>\n",
       "      <td>-0.532841</td>\n",
       "    </tr>\n",
       "    <tr>\n",
       "      <th>ChevronTexaco Corporation (68 Bil)</th>\n",
       "      <td>0.014082</td>\n",
       "      <td>0.510588</td>\n",
       "      <td>-0.666220</td>\n",
       "    </tr>\n",
       "    <tr>\n",
       "      <th>Viacom Inc'b' (66 Bil)</th>\n",
       "      <td>0.022669</td>\n",
       "      <td>0.488627</td>\n",
       "      <td>-0.284742</td>\n",
       "    </tr>\n",
       "    <tr>\n",
       "      <th>Eli Lilly and Company (66 Bil)</th>\n",
       "      <td>0.018396</td>\n",
       "      <td>0.481569</td>\n",
       "      <td>-0.366564</td>\n",
       "    </tr>\n",
       "  </tbody>\n",
       "</table>\n",
       "</div>"
      ],
      "text/plain": [
       "                                                         MAE       DPA  \\\n",
       "uniform_average                                     0.019380  0.502620   \n",
       "General Electric Company (273 Bil)                  0.017949  0.498824   \n",
       "Microsoft Corporation (259 Bil)                     0.021603  0.505882   \n",
       "Wal-Mart Stores, (234 Bil)                          0.019460  0.508235   \n",
       "Exxon Mobil Corporation (230 Bil)                   0.014342  0.521569   \n",
       "Pfizer Inc (194 Bil)                                0.018655  0.491765   \n",
       "Citigroup Inc. (192 Bil)                            0.021156  0.511373   \n",
       "Johnson & Johnson (170 Bil)                         0.014318  0.470588   \n",
       "American International Group (138 Bil)              0.017421  0.499608   \n",
       "International Business Machines Corporation (13...  0.019244  0.512157   \n",
       "Merck & Co., Inc. (124 Bil)                         0.016452  0.471373   \n",
       "Procter & Gamble Company (115 Bil)                  0.015389  0.505098   \n",
       "Intel Corporation (110 Bil)                         0.028016  0.522353   \n",
       "Bank of America Corporation (107 Bil)               0.019374  0.518431   \n",
       "Coca-Cola Company (102 Bil)                         0.015737  0.492549   \n",
       "Cisco Systems, Inc. (94 Bil)                        0.029875  0.514510   \n",
       "Verizon Communications Inc. (93 Bil)                0.018185  0.517647   \n",
       "Wells Fargo & Company (78 Bil)                      0.016205  0.512941   \n",
       "Amgen Inc. (75 Bil)                                 0.025200  0.497255   \n",
       "Dell Computer Corporation (73 Bil)                  0.028942  0.490980   \n",
       "PepsiCo, Inc. (69 Bil)                              0.016093  0.517647   \n",
       "SBC Communications Inc. (69 Bil)                    0.018969  0.516863   \n",
       "Fannie Mae S&P (68 Bil)                             0.016763  0.487059   \n",
       "ChevronTexaco Corporation (68 Bil)                  0.014082  0.510588   \n",
       "Viacom Inc'b' (66 Bil)                              0.022669  0.488627   \n",
       "Eli Lilly and Company (66 Bil)                      0.018396  0.481569   \n",
       "\n",
       "                                                          R2  \n",
       "uniform_average                                    -0.337094  \n",
       "General Electric Company (273 Bil)                 -0.409514  \n",
       "Microsoft Corporation (259 Bil)                    -0.296288  \n",
       "Wal-Mart Stores, (234 Bil)                         -0.396405  \n",
       "Exxon Mobil Corporation (230 Bil)                  -0.614184  \n",
       "Pfizer Inc (194 Bil)                               -0.391748  \n",
       "Citigroup Inc. (192 Bil)                           -0.306587  \n",
       "Johnson & Johnson (170 Bil)                        -0.670445  \n",
       "American International Group (138 Bil)             -0.447942  \n",
       "International Business Machines Corporation (13... -0.322305  \n",
       "Merck & Co., Inc. (124 Bil)                        -0.502996  \n",
       "Procter & Gamble Company (115 Bil)                 -0.469108  \n",
       "Intel Corporation (110 Bil)                        -0.173597  \n",
       "Bank of America Corporation (107 Bil)              -0.358320  \n",
       "Coca-Cola Company (102 Bil)                        -0.549337  \n",
       "Cisco Systems, Inc. (94 Bil)                       -0.135883  \n",
       "Verizon Communications Inc. (93 Bil)               -0.419123  \n",
       "Wells Fargo & Company (78 Bil)                     -0.472377  \n",
       "Amgen Inc. (75 Bil)                                -0.221849  \n",
       "Dell Computer Corporation (73 Bil)                 -0.187001  \n",
       "PepsiCo, Inc. (69 Bil)                             -0.429464  \n",
       "SBC Communications Inc. (69 Bil)                   -0.366568  \n",
       "Fannie Mae S&P (68 Bil)                            -0.532841  \n",
       "ChevronTexaco Corporation (68 Bil)                 -0.666220  \n",
       "Viacom Inc'b' (66 Bil)                             -0.284742  \n",
       "Eli Lilly and Company (66 Bil)                     -0.366564  "
      ]
     },
     "execution_count": 66,
     "metadata": {},
     "output_type": "execute_result"
    }
   ],
   "source": [
    "# adjusting the data to measure the performance\n",
    "adjusted_dataset, adjusted_prediction = adjust_data(dataset, prediction, horizon=1) # adjust the matrix of true and predicted price relatives \n",
    "\n",
    "# measure of the performance\n",
    "regression_report(adjusted_dataset, adjusted_prediction, output=\"all\")"
   ]
  },
  {
   "cell_type": "markdown",
   "metadata": {},
   "source": [
    "## Parameter optimisation\n",
    "\n",
    "In this section there is a template code to analyse impact of the change of a parameter.\n",
    "The impact is observed over 3 datasets (DJIA, TSE, NYSE) and two metrics (Mean absolute error, Direction prediction accuracy).\n",
    "\n",
    "You have to choose the filter and the parameter you want to test and its range. \n",
    "Note that the name has to be the exact name used for the filter."
   ]
  },
  {
   "cell_type": "code",
   "execution_count": 77,
   "metadata": {
    "collapsed": false
   },
   "outputs": [
    {
     "data": {
      "image/png": "[encoded data removed]",
      "text/plain": [
       "<matplotlib.figure.Figure at 0x10a837c10>"
      ]
     },
     "metadata": {},
     "output_type": "display_data"
    },
    {
     "data": {
      "image/png": "[encoded data removed]",
      "text/plain": [
       "<matplotlib.figure.Figure at 0x109722750>"
      ]
     },
     "metadata": {},
     "output_type": "display_data"
    }
   ],
   "source": [
    "f = MA \n",
    "parameter_range = range(1,30)\n",
    "parameter_name = \"window\"\n",
    "\n",
    "for dataname in [\"DJIA\",\"TSE\",\"SP500\"] :\n",
    "    dataset = pd.read_csv(datafolder+dataname+\".csv\") #price relative data\n",
    "    MAE = []\n",
    "    DPA = []\n",
    "    for p in parameter_range:\n",
    "        params[parameter_name] = p\n",
    "        prediction = f(dataset,params).divide(to_absolute(dataset)) # build predictions\n",
    "        adjusted_dataset, adjusted_prediction = adjust_data(dataset, prediction, horizon=1) # adjust the matrix of true and predicted price relatives \n",
    "        report = regression_report(adjusted_dataset, adjusted_prediction, output=\"average\")\n",
    "        \n",
    "        MAE.append(report[\"MAE\"])\n",
    "        DPA.append(report[\"DPA\"])\n",
    "\n",
    "    plt.figure(1)\n",
    "    plt.plot(parameter_range, MAE, label = dataname)\n",
    "    \n",
    "    plt.figure(2)\n",
    "    plt.plot(parameter_range, DPA, label = dataname)\n",
    "\n",
    "    \n",
    "plt.figure(1)\n",
    "plt.xlabel(parameter_name)\n",
    "plt.ylabel(\"Mean Absolute Error\")\n",
    "plt.legend(loc='center left', bbox_to_anchor=(1, 0.8))\n",
    "\n",
    "plt.figure(2)\n",
    "plt.xlabel(parameter_name)\n",
    "plt.ylabel(\"Direction Prediction Accuracy\")\n",
    "plt.legend(loc='center left', bbox_to_anchor=(1, 0.8))\n",
    "\n",
    "plt.show()"
   ]
  },
  {
   "cell_type": "markdown",
   "metadata": {},
   "source": [
    "## Higher Horizon"
   ]
  },
  {
   "cell_type": "markdown",
   "metadata": {},
   "source": [
    "## Walkforward optimisation"
   ]
  }
 ],
 "metadata": {
  "kernelspec": {
   "display_name": "Python 2",
   "language": "python",
   "name": "python2"
  },
  "language_info": {
   "codemirror_mode": {
    "name": "ipython",
    "version": 2
   },
   "file_extension": ".py",
   "mimetype": "text/x-python",
   "name": "python",
   "nbconvert_exporter": "python",
   "pygments_lexer": "ipython2",
   "version": "2.7.11"
  }
 },
 "nbformat": 4,
 "nbformat_minor": 0
}
