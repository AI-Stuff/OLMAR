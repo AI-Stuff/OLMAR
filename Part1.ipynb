{
 "cells": [
  {
   "cell_type": "markdown",
   "metadata": {},
   "source": [
    "# Part 1\n",
    "\n",
    "Part 1 aims to show that assuming the mean reversion assumption, common filters have a low predictive power."
   ]
  },
  {
   "cell_type": "markdown",
   "metadata": {},
   "source": [
    "## Imports of libraries"
   ]
  },
  {
   "cell_type": "code",
   "execution_count": 2,
   "metadata": {
    "collapsed": false
   },
   "outputs": [],
   "source": [
    "from config import datafolder\n",
    "from functions import *\n",
    "import matplotlib\n",
    "import matplotlib.pyplot as plt\n",
    "%matplotlib inline\n",
    "import pandas as pd\n",
    "import seaborn\n",
    "# increase the size of graphs\n",
    "matplotlib.rcParams['savefig.dpi'] *= 1.5\n",
    "\n",
    "import warnings\n",
    "warnings.filterwarnings(\"ignore\")"
   ]
  },
  {
   "cell_type": "markdown",
   "metadata": {},
   "source": [
    "## Performance of a specific filter on a specific dataset"
   ]
  },
  {
   "cell_type": "code",
   "execution_count": 3,
   "metadata": {
    "collapsed": false
   },
   "outputs": [],
   "source": [
    "# choosing a dataset of price relative, a filter and its parameters \n",
    "dataname = \"DJIA\"  # among SP500, TSE, DJIA\n",
    "dataset = pd.read_csv(datafolder+dataname+\".csv\") #price relative\n",
    "f = KCA # filter you want\n",
    "params = {\"window\": 5} # parameter you want"
   ]
  },
  {
   "cell_type": "code",
   "execution_count": null,
   "metadata": {
    "collapsed": true
   },
   "outputs": [],
   "source": [
    "# build dataframe of price relative predictions\n",
    "prediction = f(dataset,params).divide(to_absolute(dataset)) # build predictions"
   ]
  },
  {
   "cell_type": "code",
   "execution_count": null,
   "metadata": {
    "collapsed": false
   },
   "outputs": [],
   "source": [
    "# adjusting the data to measure the performance\n",
    "adjusted_dataset, adjusted_prediction = adjust_data(dataset, prediction, horizon=1) # adjust the matrix of true and predicted price relatives \n",
    "\n",
    "# measure of the performance\n",
    "regression_report(adjusted_dataset, adjusted_prediction, output=\"all\")"
   ]
  },
  {
   "cell_type": "markdown",
   "metadata": {},
   "source": [
    "## Parameter optimisation\n",
    "\n",
    "In this section there is a template code to analyse impact of the change of a parameter.\n",
    "The impact is observed over 3 datasets (DJIA, TSE, NYSE) and two metrics (Mean absolute error, Direction prediction accuracy).\n",
    "\n",
    "You have to choose the filter and the parameter you want to test and its range. \n",
    "Note that the name has to be the exact name used for the filter."
   ]
  },
  {
   "cell_type": "code",
   "execution_count": null,
   "metadata": {
    "collapsed": false
   },
   "outputs": [],
   "source": [
    "f = MA \n",
    "parameter_range = range(1,30)\n",
    "parameter_name = \"window\"\n",
    "\n",
    "for dataname in [\"DJIA\",\"TSE\",\"SP500\"] :\n",
    "    dataset = pd.read_csv(datafolder+dataname+\".csv\") #price relative data\n",
    "    MAE = []\n",
    "    DPA = []\n",
    "    for p in parameter_range:\n",
    "        params[parameter_name] = p\n",
    "        prediction = f(dataset,params).divide(to_absolute(dataset)) # build predictions\n",
    "        adjusted_dataset, adjusted_prediction = adjust_data(dataset, prediction, horizon=1) # adjust the matrix of true and predicted price relatives \n",
    "        report = regression_report(adjusted_dataset, adjusted_prediction, output=\"average\")\n",
    "        \n",
    "        MAE.append(report[\"MAE\"])\n",
    "        DPA.append(report[\"DPA\"])\n",
    "\n",
    "    plt.figure(1)\n",
    "    plt.plot(parameter_range, MAE, label = dataname)\n",
    "    \n",
    "    plt.figure(2)\n",
    "    plt.plot(parameter_range, DPA, label = dataname)\n",
    "\n",
    "    \n",
    "plt.figure(1)\n",
    "plt.xlabel(parameter_name)\n",
    "plt.ylabel(\"Mean Absolute Error\")\n",
    "plt.legend(loc='center left', bbox_to_anchor=(1, 0.8))\n",
    "\n",
    "plt.figure(2)\n",
    "plt.xlabel(parameter_name)\n",
    "plt.ylabel(\"Direction Prediction Accuracy\")\n",
    "plt.legend(loc='center left', bbox_to_anchor=(1, 0.8))\n",
    "\n",
    "plt.show()"
   ]
  },
  {
   "cell_type": "markdown",
   "metadata": {},
   "source": [
    "## Higher Horizon"
   ]
  },
  {
   "cell_type": "markdown",
   "metadata": {},
   "source": [
    "## Walkforward optimisation"
   ]
  },
  {
   "cell_type": "code",
   "execution_count": null,
   "metadata": {
    "collapsed": true
   },
   "outputs": [],
   "source": []
  },
  {
   "cell_type": "code",
   "execution_count": null,
   "metadata": {
    "collapsed": true
   },
   "outputs": [],
   "source": []
  }
 ],
 "metadata": {
  "kernelspec": {
   "display_name": "Python 2",
   "language": "python",
   "name": "python2"
  },
  "language_info": {
   "codemirror_mode": {
    "name": "ipython",
    "version": 2
   },
   "file_extension": ".py",
   "mimetype": "text/x-python",
   "name": "python",
   "nbconvert_exporter": "python",
   "pygments_lexer": "ipython2",
   "version": "2.7.11"
  }
 },
 "nbformat": 4,
 "nbformat_minor": 0
}
