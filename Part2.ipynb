{
 "cells": [
  {
   "cell_type": "markdown",
   "metadata": {},
   "source": [
    "# Part II : OLMAR \n",
    "\n",
    "Part II aims to show how OLMAR performs on financial dataset comparing to commonly used portfolio selection algorithms. \n",
    "\n",
    "OLMAR is a portfolio selection algorithm designed by B.Li and S.Hoi in the article [On-Line Portfolio Selection with Moving Average Reversion](http://arxiv.org/abs/1206.4626)."
   ]
  },
  {
   "cell_type": "markdown",
   "metadata": {},
   "source": [
    "#### Initialization"
   ]
  },
  {
   "cell_type": "code",
   "execution_count": 39,
   "metadata": {
    "collapsed": false
   },
   "outputs": [],
   "source": [
    "%matplotlib inline\n",
    "\n",
    "import pandas as pd\n",
    "from universal import tools\n",
    "from universal import algos\n",
    "import logging\n",
    "\n",
    "# we would like to see algos progress\n",
    "logging.basicConfig(format='%(asctime)s %(message)s', level=logging.DEBUG)\n",
    "\n",
    "import matplotlib\n",
    "import seaborn\n",
    "# increase the size of graphs\n",
    "matplotlib.rcParams['savefig.dpi'] *= 1.5\n",
    "import matplotlib.pyplot as plt\n",
    "\n",
    "# remove warnings\n",
    "import warnings\n",
    "warnings.filterwarnings(\"ignore\")\n",
    "\n",
    "# load data using tools module\n",
    "data = tools.dataset('djia') #DO NOT USE NYSE (it has the survivorship bias)"
   ]
  },
  {
   "cell_type": "markdown",
   "metadata": {},
   "source": [
    "## Reimplementation of the results of OLMAR"
   ]
  },
  {
   "cell_type": "markdown",
   "metadata": {},
   "source": [
    "#### Instanciation"
   ]
  },
  {
   "cell_type": "code",
   "execution_count": null,
   "metadata": {
    "collapsed": true
   },
   "outputs": [],
   "source": [
    "params = { \n",
    "    \"window\" : 5,       \n",
    "    \"epsilon\": 10,\n",
    "}\n",
    "\n",
    "# Instanciate OLMAR algorithm\n",
    "olmar = algos.OLMAR(window=params[\"window\"], eps=params[\"epsilon\"])"
   ]
  },
  {
   "cell_type": "markdown",
   "metadata": {},
   "source": [
    "#### Performances"
   ]
  },
  {
   "cell_type": "code",
   "execution_count": null,
   "metadata": {
    "collapsed": false
   },
   "outputs": [],
   "source": [
    "# Compute performances\n",
    "result_classic = olmar.run(data)\n",
    "\n",
    "# summary of the performances\n",
    "print(result_classic.summary())\n",
    "\n",
    "# Plotting performances against the UCRP baseline with log-scale on y axis\n",
    "result_classic.plot(weights=False, assets=False, ucrp=True, logy=True)"
   ]
  },
  {
   "cell_type": "markdown",
   "metadata": {},
   "source": [
    "#### Looking closer Importance of each share of the portfolio\n",
    "\n",
    "Let see how much each share contribute to the portfolio "
   ]
  },
  {
   "cell_type": "code",
   "execution_count": null,
   "metadata": {
    "collapsed": false
   },
   "outputs": [],
   "source": [
    "result_classic.plot_decomposition(legend=False, logy=False)"
   ]
  },
  {
   "cell_type": "markdown",
   "metadata": {},
   "source": [
    "## Comparing to other famous algorithms in portfolios selections\n",
    "\n",
    "#### Anticor \n",
    "\n",
    "*Borodin, A., El-Yaniv, R., & Gogan, V. (2004). Can we learn to beat the best stock. Journal of Artificial Intelligence Research, 21, 579-594. *\n",
    "\n",
    "#### CWMR\n",
    "\n",
    "Confidence weighted mean reversion \n",
    "\n",
    "*B. Li, S. C. H. Hoi, P.L. Zhao, and V. Gopalkrishnan. Confidence weighted mean reversion strategy for online portfolio selection, 2013. http://jmlr.org/proceedings/papers/v15/li11b/li11b.pdf *\n",
    "\n",
    "#### PAMR \n",
    "\n",
    "Passive agressive mean reversion\n",
    "\n",
    "*B. Li, P. Zhao, S. C.H. Hoi, and V. Gopalkrishnan. Pamr: Passive aggressive mean reversion strategy for portfolio selection, 2012. http://www.cais.ntu.edu.sg/~chhoi/paper_pdf/PAMR_ML_final.pdf*"
   ]
  },
  {
   "cell_type": "code",
   "execution_count": null,
   "metadata": {
    "collapsed": false
   },
   "outputs": [],
   "source": [
    "# instanciation\n",
    "anticor = algos.Anticor()\n",
    "cwmr = algos.CWMR()\n",
    "pamr = algos.PAMR()\n",
    "\n",
    "# computation\n",
    "result_anticor = anticor.run(data)\n",
    "result_cwmr = cwmr.run(data)\n",
    "result_pamr = pamr.run(data)\n",
    "\n",
    "# visualization\n",
    "plt.figure()\n",
    "\n",
    "ax = plt.gca()\n",
    "ax.set_yscale('log')\n",
    "\n",
    "plt.plot(result_classic.equity, label ='OLMAR', color='blue' )\n",
    "plt.plot(result_anticor.equity, label ='Anticor', color='green' )\n",
    "plt.plot(result_pamr.equity, label ='PAMR', color='red' )\n",
    "#plt.plot(result_cwmr.equity, label ='CWMR', color='red' )\n",
    "\n",
    "\n",
    "plt.title(\"Portfolios algorithms\")\n",
    "plt.legend(loc='center left', bbox_to_anchor=(1, 0.8))\n",
    "plt.show()"
   ]
  }
 ],
 "metadata": {
  "kernelspec": {
   "display_name": "Python 2",
   "language": "python",
   "name": "python2"
  },
  "language_info": {
   "codemirror_mode": {
    "name": "ipython",
    "version": 2
   },
   "file_extension": ".py",
   "mimetype": "text/x-python",
   "name": "python",
   "nbconvert_exporter": "python",
   "pygments_lexer": "ipython2",
   "version": "2.7.11"
  }
 },
 "nbformat": 4,
 "nbformat_minor": 0
}
